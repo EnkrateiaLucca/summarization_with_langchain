{
 "cells": [
  {
   "cell_type": "code",
   "execution_count": 3,
   "metadata": {},
   "outputs": [],
   "source": [
    "from langchain import OpenAI, PromptTemplate, LLMChain\n",
    "from langchain.text_splitter import CharacterTextSplitter\n",
    "from langchain.chains.mapreduce import MapReduceChain\n",
    "from langchain.prompts import PromptTemplate\n",
    "from langchain.docstore.document import Document\n",
    "from langchain.chains.summarize import load_summarize_chain\n",
    "from langchain.document_loaders import PyPDFLoader\n",
    "llm = OpenAI(temperature=0)\n",
    "text_splitter = CharacterTextSplitter()"
   ]
  },
  {
   "cell_type": "code",
   "execution_count": 4,
   "metadata": {},
   "outputs": [],
   "source": [
    "with open(\"./text_doc.txt\") as f:\n",
    "    text_doc = f.read()\n",
    "\n",
    "texts = text_splitter.split_text(text_doc)"
   ]
  },
  {
   "cell_type": "code",
   "execution_count": 6,
   "metadata": {},
   "outputs": [],
   "source": [
    "docs = [Document(page_content=t) for t in texts[:3]]"
   ]
  },
  {
   "cell_type": "code",
   "execution_count": 8,
   "metadata": {},
   "outputs": [
    {
     "data": {
      "text/plain": [
       "' This essay argues for the need for technology that can augment our thinking capabilities, similar to the way pencil and paper do. Representations are mental tools that shape how we understand the world and are heavily dependent on the media they are expressed on. The author recommends watching Brett Victor\\'s lecture on \"The Human Representation of Thought\" to learn more about representations and how they can be used to generate insight. Technology has given us the opportunity to reconsider our forced choices and evolve from the rectangle boxes we use to do knowledge work.'"
      ]
     },
     "execution_count": 8,
     "metadata": {},
     "output_type": "execute_result"
    }
   ],
   "source": [
    "chain = load_summarize_chain(llm, chain_type=\"map_reduce\")\n",
    "chain.run(docs)"
   ]
  },
  {
   "cell_type": "code",
   "execution_count": 4,
   "metadata": {},
   "outputs": [],
   "source": [
    "loader = PyPDFLoader(\"/home/lucassoares/Desktop/projects/content_creation/automating_work_research/pdfs/paper_shorts_memory.pdf\")\n",
    "docs = loader.load_and_split()"
   ]
  },
  {
   "cell_type": "code",
   "execution_count": 5,
   "metadata": {},
   "outputs": [
    {
     "data": {
      "text/plain": [
       "' This study examines the effects of short-form videos on our capacity to retain intentions. Results showed that TikTok significantly degraded performance, while neither Twitter nor YouTube had any observable effect. Further analysis found significant differences in the drift rate, variance, and decision bound in different interruptions, and significant differences in the variance and non-decision time in pre- and post-interruptions. This research contributes an empirical understanding of the impact of different social media feeds on prospective memory and outlines consequences for media technology designers.'"
      ]
     },
     "execution_count": 5,
     "metadata": {},
     "output_type": "execute_result"
    }
   ],
   "source": [
    "chain = load_summarize_chain(llm, chain_type=\"map_reduce\")\n",
    "summary_1 = chain.run(docs)\n",
    "summary_1"
   ]
  },
  {
   "attachments": {},
   "cell_type": "markdown",
   "metadata": {},
   "source": [
    "Let's look at summarization with `map_reduce` but using a custom prompt."
   ]
  },
  {
   "cell_type": "code",
   "execution_count": 12,
   "metadata": {},
   "outputs": [
    {
     "data": {
      "text/plain": [
       "'\\n\\nThis paper examines the impact of different social media feed modalities on cognitive performance in a dual-task environment. An experiment was conducted with 60 participants, who were randomly assigned to one of four conditions: Rest, Twitter, YouTube, or TikTok. The results showed that the TikTok interruption condition had a significant negative impact on accuracy in the short-term task, while the other conditions had no significant effect. The Drift Diffusion Model (DDM) was used to further interpret the results, and showed that participants had a 20.00% error rate before the TikTok interruption, and a 50.98% error rate after the interruption. The authors concluded that different social media feed designs, with varying media modalities and context-switch frequencies, can impact cognitive performance in terms of short-term task performance. They also discussed the implications of their findings for media technology designers and highlighted future work in the field. Additionally, the paper reviews 125 research papers that explore the effects of technology on cognitive functioning, prospective memory, and multitasking, and proposes the multiprocess framework for prospective memory, the flexible framework for simulating and fitting generalized drift-diffusion models, and the effects of mindful reflection at unlock on absentminded smartphone use.'"
      ]
     },
     "execution_count": 12,
     "metadata": {},
     "output_type": "execute_result"
    }
   ],
   "source": [
    "prompt_template = \"\"\"Write a comprehensive summary of this paper. \n",
    "\n",
    "Divide it into,\n",
    "1. Problem\n",
    "2. Proposed solution\n",
    "3. Results\n",
    "4. Discussion.\n",
    "\n",
    "{text}\n",
    "\n",
    "SUMMARY:\"\"\"\n",
    "PROMPT = PromptTemplate(template=prompt_template, input_variables=[\"text\"])\n",
    "chain = load_summarize_chain(llm, chain_type=\"map_reduce\", \n",
    "                             map_prompt=PROMPT, combine_prompt=PROMPT)\n",
    "summary_output = chain({\"input_documents\": docs},return_only_outputs=True)[\"output_text\"]\n",
    "summary_output"
   ]
  },
  {
   "cell_type": "code",
   "execution_count": 13,
   "metadata": {},
   "outputs": [],
   "source": [
    "# write summary_output to text file\n",
    "with open(\"./summary_output.txt\", \"w\") as f:\n",
    "    f.write(summary_output)"
   ]
  },
  {
   "attachments": {},
   "cell_type": "markdown",
   "metadata": {},
   "source": [
    "For some reason the [`refine`](https://python.langchain.com/en/latest/modules/chains/index_examples/summarize.html) chain was taking really long."
   ]
  }
 ],
 "metadata": {
  "kernelspec": {
   "display_name": "langchain_env",
   "language": "python",
   "name": "langchain_env"
  },
  "language_info": {
   "codemirror_mode": {
    "name": "ipython",
    "version": 3
   },
   "file_extension": ".py",
   "mimetype": "text/x-python",
   "name": "python",
   "nbconvert_exporter": "python",
   "pygments_lexer": "ipython3",
   "version": "3.9.13"
  },
  "orig_nbformat": 4
 },
 "nbformat": 4,
 "nbformat_minor": 2
}
