{
 "cells": [
  {
   "cell_type": "code",
   "execution_count": 2,
   "metadata": {},
   "outputs": [],
   "source": [
    "from langchain import OpenAI, PromptTemplate, LLMChain\n",
    "from langchain.text_splitter import CharacterTextSplitter\n",
    "from langchain.chains.mapreduce import MapReduceChain\n",
    "from langchain.prompts import PromptTemplate\n",
    "from langchain.docstore.document import Document\n",
    "from langchain.chains.summarize import load_summarize_chain\n",
    "from langchain.document_loaders import PyPDFLoader\n",
    "llm = OpenAI(temperature=0)\n",
    "text_splitter = CharacterTextSplitter()"
   ]
  },
  {
   "cell_type": "code",
   "execution_count": 3,
   "metadata": {},
   "outputs": [],
   "source": [
    "with open(\"./huberman_procrastination.txt\") as f:\n",
    "    text_doc = f.read()\n",
    "\n",
    "texts = text_splitter.split_text(text_doc)"
   ]
  },
  {
   "cell_type": "code",
   "execution_count": 4,
   "metadata": {},
   "outputs": [],
   "source": [
    "docs = [Document(page_content=t) for t in texts[:3]]"
   ]
  },
  {
   "cell_type": "code",
   "execution_count": 5,
   "metadata": {},
   "outputs": [
    {
     "data": {
      "text/plain": [
       "' In this podcast, Professor Andrew Huberman of Stanford School of Medicine discusses dopamine and its role in pleasure, motivation, drive, pursuit, procrastination, and confidence. He provides practical tools to leverage dopamine to optimize mental health, physical health, and performance. The podcast is now partnered with Momentous Supplements, Helix Sleep, Whoop, and Roka to provide listeners with better sleep and health. Dopamine is a chemical that modulates the electrical activity of neurons in the brain and body, and is released in five circuits in the brain, each of which engages different functions.'"
      ]
     },
     "execution_count": 5,
     "metadata": {},
     "output_type": "execute_result"
    }
   ],
   "source": [
    "chain = load_summarize_chain(llm, chain_type=\"map_reduce\")\n",
    "chain.run(docs)"
   ]
  },
  {
   "attachments": {},
   "cell_type": "markdown",
   "metadata": {},
   "source": [
    "Let's look at summarization with `map_reduce` but using a custom prompt."
   ]
  },
  {
   "cell_type": "code",
   "execution_count": 6,
   "metadata": {},
   "outputs": [
    {
     "data": {
      "text/plain": [
       "'\\nThis podcast discusses the role of dopamine in motivation, drive, pleasure, and procrastination. It explains how dopamine is released in five circuits in the brain, including the Nigro striatal pathway, the mesolimbic pathway, the VTA and nucleus accumbens, the prefrontal cortex, and the mesocortical pathway. It is involved in basic functions like maintaining body temperature and libido, decision-making, and reward-seeking behavior. The podcast provides tools to leverage dopamine circuitry and levels in order to become more motivated and to overcome procrastination. It is sponsored by Helix Sleep, Whoop, and Roka, who offer discounts on their products. Momentous supplements can also be found at livemomentous.com huberman.'"
      ]
     },
     "execution_count": 6,
     "metadata": {},
     "output_type": "execute_result"
    }
   ],
   "source": [
    "prompt_template = \"\"\"Write a comprehensive summary of this video transcript. \n",
    "\n",
    "Divide it into,\n",
    "1. Dopamine and Procrastination\n",
    "2. Tools proposed\n",
    "3. Protocols\n",
    "4. Conclusion\n",
    "\n",
    "{text}\n",
    "\n",
    "SUMMARY:\"\"\"\n",
    "PROMPT = PromptTemplate(template=prompt_template, input_variables=[\"text\"])\n",
    "chain = load_summarize_chain(llm, chain_type=\"map_reduce\", \n",
    "                             map_prompt=PROMPT, combine_prompt=PROMPT)\n",
    "summary_output = chain({\"input_documents\": docs},return_only_outputs=True)[\"output_text\"]\n",
    "summary_output"
   ]
  },
  {
   "cell_type": "code",
   "execution_count": 13,
   "metadata": {},
   "outputs": [],
   "source": [
    "# write summary_output to text file\n",
    "with open(\"./summary_output.txt\", \"w\") as f:\n",
    "    f.write(summary_output)"
   ]
  },
  {
   "attachments": {},
   "cell_type": "markdown",
   "metadata": {},
   "source": [
    "# Summarizing PDFs"
   ]
  },
  {
   "cell_type": "code",
   "execution_count": null,
   "metadata": {},
   "outputs": [],
   "source": [
    "loader = PyPDFLoader(\"/home/lucassoares/Desktop/projects/content_creation/automating_work_research/pdfs/paper_shorts_memory.pdf\")\n",
    "docs = loader.load_and_split()\n",
    "chain = load_summarize_chain(llm, chain_type=\"map_reduce\")\n",
    "summary_1 = chain.run(docs)\n",
    "summary_1"
   ]
  },
  {
   "attachments": {},
   "cell_type": "markdown",
   "metadata": {},
   "source": [
    "For some reason the [`refine`](https://python.langchain.com/en/latest/modules/chains/index_examples/summarize.html) chain was taking really long."
   ]
  }
 ],
 "metadata": {
  "kernelspec": {
   "display_name": "langchain_env",
   "language": "python",
   "name": "langchain_env"
  },
  "language_info": {
   "codemirror_mode": {
    "name": "ipython",
    "version": 3
   },
   "file_extension": ".py",
   "mimetype": "text/x-python",
   "name": "python",
   "nbconvert_exporter": "python",
   "pygments_lexer": "ipython3",
   "version": "3.9.13"
  },
  "orig_nbformat": 4
 },
 "nbformat": 4,
 "nbformat_minor": 2
}
